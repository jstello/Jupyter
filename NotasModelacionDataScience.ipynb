{
 "cells": [
  {
   "cell_type": "raw",
   "id": "5628f2e0-6acb-4f17-b16f-643ad5f9c377",
   "metadata": {},
   "source": [
    "---\n",
    "title: \"Notas Modelación y Data Science 2023\"\n",
    "author: \"INGETEC\"\n",
    "navbar:\n",
    "  - left:\n",
    "    - text: \"Home\"\n",
    "    - link: \"index.html\"\n",
    "format: \n",
    "    revealjs:\n",
    "        smaller: false\n",
    "        scrollable: true\n",
    "        logo: ingetec_logo.png\n",
    "        footer: 'Modelación y Data Science'\n",
    "output:\n",
    "  revealjs::revealjs_presentation:\n",
    "    reveal_options:\n",
    "      theme: black\n",
    "      transition: slide\n",
    "    lib_dir: reveal.js\n",
    "\n",
    "---\n"
   ]
  },
  {
   "cell_type": "markdown",
   "id": "30613702-fb5b-4aff-90cc-084c90638c54",
   "metadata": {},
   "source": [
    "## Modelación\n",
    "### **Rocscience** - Agendar reunión\n",
    "###  **Porce III** - Reunión de Inicio Feb 8\n",
    "###  **ICOLD Bulletin**\n",
    "### **Puentes**: Seguimiento OpenBridge\n",
    "### **CFD**: Realizar  Benchmakrs en CFD con resultados de modelos físicos (Tornillito)\n"
   ]
  },
  {
   "cell_type": "markdown",
   "id": "d8e51162-c98d-4f97-b6a5-a4a2c23a16fa",
   "metadata": {},
   "source": [
    "## Data Science & AI\n",
    "- **GeoLabData**: Enviar propuesta\n",
    "- **Automation**: Reunión el viernes"
   ]
  },
  {
   "cell_type": "markdown",
   "id": "0a79384a-6433-48e4-a5b0-e1d4fa809f56",
   "metadata": {},
   "source": [
    "## Path to Associate\n",
    "\n",
    "- The next level up in the company is to become an associate\n",
    "- This would include more vacations and participation in company profits though bonuses\n",
    "- Camilo considers this possible (this year 2023) provided some conditions are met.\n",
    "    - I provide him with material to support a decision to support this\n",
    "    - This has to help him show value to the firm\n",
    "    - We have done a lot of valuable things in the past in the realm of numerical modeling, which might not be too present in his mind. \n",
    "    \n",
    "\n"
   ]
  },
  {
   "cell_type": "markdown",
   "id": "3a85671f-bc52-41bb-a501-f84d0979cb5d",
   "metadata": {
    "tags": []
   },
   "source": [
    "## Path to Associate Actions\n",
    "\n",
    "- Review your accomplishments: Review the projects you've worked on and the results you've achieved, and document your contributions in a clear and concise manner.\n",
    "- Highlight your value: Emphasize the value you bring to the company, including your expertise, skills, and experience. Provide concrete examples of how your work has helped the company succeed.\n",
    "- Present a clear plan: Provide your boss with a clear and compelling case for why you would be a valuable asset as an associate, including a plan for how you will continue to add value to the company in the future.\n",
    "- Be prepared for objections: Anticipate any potential objections your boss may have and be prepared to address them with solid data and arguments.\n",
    " - Be prepared for objections: Anticipate any potential objections your boss may have and be prepared to address them with solid data and arguments.\n"
   ]
  }
 ],
 "metadata": {
  "kernelspec": {
   "display_name": "Python 3 (ipykernel)",
   "language": "python",
   "name": "python3"
  },
  "language_info": {
   "codemirror_mode": {
    "name": "ipython",
    "version": 3
   },
   "file_extension": ".py",
   "mimetype": "text/x-python",
   "name": "python",
   "nbconvert_exporter": "python",
   "pygments_lexer": "ipython3",
   "version": "3.8.8"
  }
 },
 "nbformat": 4,
 "nbformat_minor": 5
}
